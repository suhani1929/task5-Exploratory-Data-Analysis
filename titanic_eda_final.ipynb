{
 "cells": [
  {
   "cell_type": "markdown",
   "id": "f8c9c496",
   "metadata": {},
   "source": [
    "# 🧪 Exploratory Data Analysis: Titanic Dataset"
   ]
  },
  {
   "cell_type": "code",
   "execution_count": null,
   "id": "0790e49f",
   "metadata": {},
   "outputs": [],
   "source": [
    "import pandas as pd\n",
    "import seaborn as sns\n",
    "import matplotlib.pyplot as plt\n",
    "\n",
    "# Load train data\n",
    "df = pd.read_csv(\"train.csv\")\n",
    "df.head()"
   ]
  },
  {
   "cell_type": "code",
   "execution_count": null,
   "id": "3cac028d",
   "metadata": {},
   "outputs": [],
   "source": [
    "# Initial Exploration\n",
    "print(\"Shape :\", df.shape)\n",
    "df.info()\n",
    "df.describe()\n",
    "df.isnull().sum()"
   ]
  },
  {
   "cell_type": "code",
   "execution_count": null,
   "id": "130c1b1e",
   "metadata": {},
   "outputs": [],
   "source": [
    "# Handling Missing Values\n",
    "df['Age'] = df['Age'].fillna(df['Age'].median())\n",
    "df['Embarked'] = df['Embarked'].fillna(df['Embarked'].mode()[0])\n",
    "df.drop(columns =['Cabin'], inplace = True)"
   ]
  },
  {
   "cell_type": "markdown",
   "id": "c701715b",
   "metadata": {},
   "source": [
    "## 📊 Univariate Analysis"
   ]
  },
  {
   "cell_type": "code",
   "execution_count": null,
   "id": "5a2cff4b",
   "metadata": {},
   "outputs": [],
   "source": [
    "# Count of Survival \n",
    "sns.countplot(x = \"Survived\", data = df)\n",
    "plt.title(\"Survival Count\")\n",
    "plt.show()"
   ]
  },
  {
   "cell_type": "code",
   "execution_count": null,
   "id": "7f218d54",
   "metadata": {},
   "outputs": [],
   "source": [
    "# Passenger Class\n",
    "sns.countplot(x = \"Pclass\", data = df)\n",
    "plt.title(\"Passenger Class Distribution\")\n",
    "plt.show()"
   ]
  },
  {
   "cell_type": "code",
   "execution_count": null,
   "id": "68bffc10",
   "metadata": {},
   "outputs": [],
   "source": [
    "# Gender\n",
    "sns.countplot(x = \"Sex\", data = df)\n",
    "plt.title(\"Gender Distribution\")\n",
    "plt.show()"
   ]
  },
  {
   "cell_type": "code",
   "execution_count": null,
   "id": "09bf8da5",
   "metadata": {},
   "outputs": [],
   "source": [
    "# Histogram : Age Distribution\n",
    "sns.histplot(df['Age'].dropna(), kde = True)\n",
    "plt.title(\"Age Distribution\")\n",
    "plt.show()"
   ]
  },
  {
   "cell_type": "code",
   "execution_count": null,
   "id": "f045a0c1",
   "metadata": {},
   "outputs": [],
   "source": [
    "# BoxPlot :Fare\n",
    "sns.boxplot(x = \"Fare\", data = df)\n",
    "plt.title(\"Fare Boxplot\")\n",
    "plt.show()"
   ]
  },
  {
   "cell_type": "markdown",
   "id": "503cbc81",
   "metadata": {},
   "source": [
    "## 📈 Bivariate Analysis"
   ]
  },
  {
   "cell_type": "code",
   "execution_count": null,
   "id": "99e310f2",
   "metadata": {},
   "outputs": [],
   "source": [
    "# Survival by sex\n",
    "sns.countplot(x = \"Sex\", hue = \"Survived\", data = df)\n",
    "plt.title(\"Survival by Gender\")\n",
    "plt.show()"
   ]
  },
  {
   "cell_type": "code",
   "execution_count": null,
   "id": "01b2d106",
   "metadata": {},
   "outputs": [],
   "source": [
    "# BoxPlot : Age vs Survived\n",
    "sns.boxplot(x =\"Survived\", y = \"Age\", data = df)\n",
    "plt.title(\"Age vs Survived\")\n",
    "plt.show()"
   ]
  },
  {
   "cell_type": "code",
   "execution_count": null,
   "id": "67d07b43",
   "metadata": {},
   "outputs": [],
   "source": [
    "# Pclass vs Survived\n",
    "sns.countplot(x = \"Pclass\", hue = \"Survived\", data = df)\n",
    "plt.title(\"Survival by Passenger Class\")\n",
    "plt.show()"
   ]
  },
  {
   "cell_type": "code",
   "execution_count": null,
   "id": "958c00c9",
   "metadata": {},
   "outputs": [],
   "source": [
    "# ScatterPlot : Fare vs Age colored by Survival\n",
    "sns.scatterplot(x = \"Age\", y = \"Fare\", hue = \"Survived\", data = df)\n",
    "plt.title(\"Age vs Fare by Survival\")\n",
    "plt.show()"
   ]
  },
  {
   "cell_type": "code",
   "execution_count": null,
   "id": "908fd182",
   "metadata": {},
   "outputs": [],
   "source": [
    "# Correlation Heatmap\n",
    "plt.figure(figsize = (10, 6))\n",
    "sns.heatmap(df.corr(numeric_only = True), annot = True, cmap = \"coolwarm\")\n",
    "plt.title(\"Correlation Heatmap\")\n",
    "plt.show()"
   ]
  },
  {
   "cell_type": "markdown",
   "id": "c1a3357c",
   "metadata": {},
   "source": [
    "## 🔄 Multivariate Analysis"
   ]
  },
  {
   "cell_type": "code",
   "execution_count": null,
   "id": "f43f8aec",
   "metadata": {},
   "outputs": [],
   "source": [
    "# Pairplot to see relationships between numeric variables\n",
    "sns.pairplot(df[[\"Age\", \"Fare\", \"Pclass\", \"Survived\"]], hue = \"Survived\")\n",
    "plt.suptitle(\"Pairplot of Numerical Features by Survival\", y =1.02)\n",
    "plt.show()"
   ]
  },
  {
   "cell_type": "code",
   "execution_count": null,
   "id": "693d89dc",
   "metadata": {},
   "outputs": [],
   "source": [
    "# Survival by Class and Gender\n",
    "sns.catplot(x=\"Pclass\", hue=\"Sex\", col=\"Survived\", data=df, kind=\"count\")\n",
    "plt.suptitle(\"Survival by Class and Gender\", y=1.05)\n",
    "plt.show()"
   ]
  }
 ],
 "metadata": {},
 "nbformat": 4,
 "nbformat_minor": 5
}
